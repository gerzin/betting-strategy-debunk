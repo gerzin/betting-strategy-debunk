{
 "cells": [
  {
   "cell_type": "markdown",
   "id": "0b49a587",
   "metadata": {},
   "source": [
    "# Datasets Generation\n",
    "\n",
    "Here we create the needed datasets. For each season we'll create two datasets. One with the matches and betting odds and a simple dataset which will contain the season scoreboard."
   ]
  },
  {
   "cell_type": "code",
   "execution_count": 1,
   "id": "2e8704d0",
   "metadata": {},
   "outputs": [],
   "source": [
    "import pandas as pd\n",
    "from pathlib import Path\n",
    "\n",
    "DATA=Path(\"data/raw\")\n",
    "OUTPUT=DATA.parent / \"processed\"\n",
    "\n",
    "columns_of_interest = [\n",
    "    \"Date\",\n",
    "    \"HomeTeam\",\n",
    "    \"AwayTeam\",\n",
    "    \"FTR\", # Full Time Result\n",
    "    \"B365H\" , # Bet365 home win odds\n",
    "    \"B365D\" , # Bet365 draw odds\n",
    "    \"B365A\" , # Bet365 away win odds\n",
    "]\n",
    "datasets = [pd.read_csv(f)[columns_of_interest] for f in filter(lambda x: x.suffix == \".csv\", DATA.iterdir())]\n"
   ]
  },
  {
   "cell_type": "code",
   "execution_count": null,
   "id": "febe1004",
   "metadata": {},
   "outputs": [],
   "source": [
    "def extract_leaderboard(df):\n",
    "    \"\"\"\n",
    "    Extract the leaderboard from the dataframe.\n",
    "    \"\"\"\n",
    "    teams = set(df[\"HomeTeam\"].unique()).union(set(df[\"AwayTeam\"].unique()))\n",
    "    leaderboard = pd.DataFrame(teams, columns=[\"Team\"])\n",
    "    leaderboard[\"Points\"] = 0\n",
    "    for _ , row in df.iterrows():\n",
    "        if row[\"FTR\"] == \"H\":\n",
    "            leaderboard.loc[leaderboard[\"Team\"] == row[\"HomeTeam\"], \"Points\"] += 3\n",
    "        elif row[\"FTR\"] == \"A\":\n",
    "            leaderboard.loc[leaderboard[\"Team\"] == row[\"AwayTeam\"], \"Points\"] += 3\n",
    "        elif row[\"FTR\"] == \"D\":\n",
    "            leaderboard.loc[leaderboard[\"Team\"] == row[\"HomeTeam\"], \"Points\"] += 1\n",
    "            leaderboard.loc[leaderboard[\"Team\"] == row[\"AwayTeam\"], \"Points\"] += 1\n",
    "    leaderboard = leaderboard.sort_values(by=\"Points\", ascending=False)\n",
    "    leaderboard.reset_index(drop=True, inplace=True)\n",
    "    leaderboard.index += 1\n",
    "    leaderboard.index.name = \"Position\"\n",
    "    leaderboard.index = leaderboard.index.astype(int)\n",
    "    return leaderboard\n",
    "    \n"
   ]
  },
  {
   "cell_type": "code",
   "execution_count": 10,
   "id": "1125e34e",
   "metadata": {},
   "outputs": [],
   "source": [
    "\n",
    "for df in datasets:\n",
    "    filename = df.iloc[0][\"Date\"].split(\"/\")[-1]\n",
    "    filename = \"20\" + filename if len(filename) == 2 else filename\n",
    "    filename = f\"{filename}-{int(filename[-2:])+1:02}\"\n",
    "    df.to_csv( OUTPUT / f\"season_{filename}.csv\", index=False)\n",
    "    leaderboard = extract_leaderboard(df)\n",
    "    leaderboard.to_csv( OUTPUT / f\"leaderboard_{filename}.csv\", index=False)\n"
   ]
  }
 ],
 "metadata": {
  "kernelspec": {
   "display_name": "venv",
   "language": "python",
   "name": "python3"
  },
  "language_info": {
   "codemirror_mode": {
    "name": "ipython",
    "version": 3
   },
   "file_extension": ".py",
   "mimetype": "text/x-python",
   "name": "python",
   "nbconvert_exporter": "python",
   "pygments_lexer": "ipython3",
   "version": "3.13.2"
  }
 },
 "nbformat": 4,
 "nbformat_minor": 5
}
