{
 "cells": [
  {
   "cell_type": "markdown",
   "id": "0b49a587",
   "metadata": {},
   "source": [
    "# Datasets Generation\n",
    "\n",
    "Here we create the needed datasets. For each season we'll create two datasets. One with the matches and betting odds and a simple dataset which will contain the season scoreboard."
   ]
  },
  {
   "cell_type": "code",
   "execution_count": 1,
   "id": "2e8704d0",
   "metadata": {},
   "outputs": [],
   "source": [
    "import pandas as pd\n",
    "from pathlib import Path\n",
    "\n",
    "DATA=Path(\"data/raw\")\n",
    "OUTPUT=DATA.parent / \"processed\"\n",
    "\n",
    "columns_of_interest = [\n",
    "    \"Date\",\n",
    "    \"HomeTeam\",\n",
    "    \"AwayTeam\",\n",
    "    \"FTR\", # Full Time Result\n",
    "    \"B365H\" , # Bet365 home win odds\n",
    "    \"B365D\" , # Bet365 draw odds\n",
    "    \"B365A\" , # Bet365 away win odds\n",
    "]\n",
    "datasets = [pd.read_csv(f) for f in filter(lambda x: x.suffix == \".csv\", DATA.iterdir())]\n"
   ]
  },
  {
   "cell_type": "markdown",
   "id": "01428d3c",
   "metadata": {},
   "source": [
    "Handling the missing values"
   ]
  },
  {
   "cell_type": "code",
   "execution_count": 2,
   "id": "f78cd7b7",
   "metadata": {},
   "outputs": [],
   "source": [
    "datasets = [d.dropna(axis=0, how='all') for d in datasets]\n"
   ]
  },
  {
   "cell_type": "code",
   "execution_count": null,
   "id": "0f56fdcb",
   "metadata": {},
   "outputs": [
    {
     "name": "stdout",
     "output_type": "stream",
     "text": [
      "Rows with missing odds\n",
      ":           Date HomeTeam AwayTeam  B365H  B365D  B365A\n",
      "35  18/10/2020  Udinese    Parma    NaN    NaN    NaN\n",
      "37  19/10/2020   Verona    Genoa    NaN    NaN    NaN\n",
      "\n",
      "All missing odds filled successfully.\n",
      "\n",
      "No missing odds found.\n",
      "\n",
      "No missing odds found.\n",
      "\n",
      "No missing odds found.\n",
      "\n",
      "No missing odds found.\n",
      "\n",
      "No missing odds found.\n",
      "\n",
      "No missing odds found.\n",
      "\n",
      "No missing odds found.\n",
      "\n",
      "Rows with missing odds\n",
      ":            Date HomeTeam    AwayTeam  B365H  B365D  B365A\n",
      "203  10/01/2022   Torino  Fiorentina    NaN    NaN    NaN\n",
      "\n",
      "Rows with still missing odds after filling\n",
      ":            Date HomeTeam    AwayTeam  B365H  B365D  B365A\n",
      "203  10/01/2022   Torino  Fiorentina    NaN    NaN    NaN\n",
      "\n"
     ]
    },
    {
     "ename": "Exception",
     "evalue": "There are still missing odds after filling with other bookmakers. Please check the data.",
     "output_type": "error",
     "traceback": [
      "\u001b[31m---------------------------------------------------------------------------\u001b[39m",
      "\u001b[31mException\u001b[39m                                 Traceback (most recent call last)",
      "\u001b[36mCell\u001b[39m\u001b[36m \u001b[39m\u001b[32mIn[3]\u001b[39m\u001b[32m, line 35\u001b[39m\n\u001b[32m     30\u001b[39m         \u001b[38;5;28mprint\u001b[39m(\u001b[33mf\u001b[39m\u001b[33m\"\u001b[39m\u001b[33mNo missing odds found.\u001b[39m\u001b[33m\"\u001b[39m, end=\u001b[33m\"\u001b[39m\u001b[38;5;130;01m\\n\u001b[39;00m\u001b[38;5;130;01m\\n\u001b[39;00m\u001b[33m\"\u001b[39m)\n\u001b[32m     31\u001b[39m     \u001b[38;5;28;01mreturn\u001b[39;00m df\n\u001b[32m---> \u001b[39m\u001b[32m35\u001b[39m datasets = [\u001b[43mfill_missing_odds\u001b[49m\u001b[43m(\u001b[49m\u001b[43md\u001b[49m\u001b[43m)\u001b[49m \u001b[38;5;28;01mfor\u001b[39;00m d \u001b[38;5;129;01min\u001b[39;00m datasets]\n",
      "\u001b[36mCell\u001b[39m\u001b[36m \u001b[39m\u001b[32mIn[3]\u001b[39m\u001b[32m, line 26\u001b[39m, in \u001b[36mfill_missing_odds\u001b[39m\u001b[34m(df)\u001b[39m\n\u001b[32m     24\u001b[39m \u001b[38;5;28;01mif\u001b[39;00m \u001b[38;5;129;01mnot\u001b[39;00m missing.empty:\n\u001b[32m     25\u001b[39m     \u001b[38;5;28mprint\u001b[39m(\u001b[33mf\u001b[39m\u001b[33m\"\u001b[39m\u001b[33mRows with still missing odds after filling\u001b[39m\u001b[38;5;130;01m\\n\u001b[39;00m\u001b[33m: \u001b[39m\u001b[38;5;132;01m{\u001b[39;00mmissing[[\u001b[33m\"\u001b[39m\u001b[33mDate\u001b[39m\u001b[33m\"\u001b[39m,\u001b[38;5;250m \u001b[39m\u001b[33m\"\u001b[39m\u001b[33mHomeTeam\u001b[39m\u001b[33m\"\u001b[39m,\u001b[38;5;250m \u001b[39m\u001b[33m\"\u001b[39m\u001b[33mAwayTeam\u001b[39m\u001b[33m\"\u001b[39m,\u001b[38;5;250m \u001b[39m\u001b[33m\"\u001b[39m\u001b[33mB365H\u001b[39m\u001b[33m\"\u001b[39m,\u001b[38;5;250m \u001b[39m\u001b[33m\"\u001b[39m\u001b[33mB365D\u001b[39m\u001b[33m\"\u001b[39m,\u001b[38;5;250m \u001b[39m\u001b[33m\"\u001b[39m\u001b[33mB365A\u001b[39m\u001b[33m\"\u001b[39m]]\u001b[38;5;132;01m}\u001b[39;00m\u001b[33m\"\u001b[39m, end=\u001b[33m\"\u001b[39m\u001b[38;5;130;01m\\n\u001b[39;00m\u001b[38;5;130;01m\\n\u001b[39;00m\u001b[33m\"\u001b[39m)\n\u001b[32m---> \u001b[39m\u001b[32m26\u001b[39m     \u001b[38;5;28;01mraise\u001b[39;00m \u001b[38;5;167;01mException\u001b[39;00m(\u001b[33m\"\u001b[39m\u001b[33mThere are still missing odds after filling with other bookmakers. Please check the data.\u001b[39m\u001b[33m\"\u001b[39m)\n\u001b[32m     27\u001b[39m \u001b[38;5;28;01melse\u001b[39;00m:\n\u001b[32m     28\u001b[39m     \u001b[38;5;28mprint\u001b[39m(\u001b[33mf\u001b[39m\u001b[33m\"\u001b[39m\u001b[33mAll missing odds filled successfully.\u001b[39m\u001b[33m\"\u001b[39m, end=\u001b[33m\"\u001b[39m\u001b[38;5;130;01m\\n\u001b[39;00m\u001b[38;5;130;01m\\n\u001b[39;00m\u001b[33m\"\u001b[39m)\n",
      "\u001b[31mException\u001b[39m: There are still missing odds after filling with other bookmakers. Please check the data."
     ]
    }
   ],
   "source": [
    "def fill_missing_odds(df):\n",
    "    \"\"\"Some odds might be missing for B365 so we fill them with the ones from another bookmaker.\"\"\"\n",
    "\n",
    "    def safe_fill(df, target, fallback_cols):\n",
    "        if target not in df:\n",
    "            df[target] = pd.NA\n",
    "\n",
    "        for col in fallback_cols:\n",
    "            if col in df:\n",
    "                df[target] = df[target].fillna(df[col])\n",
    "        return df\n",
    "    \n",
    "\n",
    "    missing = df[df[[\"B365H\", \"B365D\", \"B365A\"]].isna().any(axis=1)]\n",
    "    if not missing.empty:\n",
    "        print(f\"Rows with missing odds\\n: {missing[[\"Date\", \"HomeTeam\", \"AwayTeam\", \"B365H\", \"B365D\", \"B365A\"]]}\", end=\"\\n\\n\")\n",
    "\n",
    "        df = safe_fill(df, \"B365H\", [\"AvgH\", \"MaxH\", \"BbMxH\", \"WHH\", \"BWH\", \"VCH\", \"IWH\", \"BbAvH\", \"LBH\", \"BFEH\", \"B365AHH\", \"PH\"])\n",
    "        df = safe_fill(df, \"B365D\", [\"AvgD\", \"MaxD\", \"BbMxD\", \"WHD\", \"BWD\", \"VCD\", \"IWD\", \"BbAvD\", \"LBD\", \"BFED\", \"B365AHD\", \"PD\"])\n",
    "        df = safe_fill(df, \"B365A\", [\"AvgA\", \"MaxA\", \"BbMxA\", \"WHA\", \"BWA\", \"VCA\", \"IWA\", \"BbAvA\", \"LBA\", \"BFEA\", \"B365AHA\", \"PA\"])\n",
    "\n",
    "\n",
    "        missing = df[df[[\"B365H\", \"B365D\", \"B365A\"]].isna().any(axis=1)]\n",
    "        if not missing.empty:\n",
    "            print(f\"Rows with still missing odds after filling\\n: {missing[[\"Date\", \"HomeTeam\", \"AwayTeam\", \"B365H\", \"B365D\", \"B365A\"]]}\", end=\"\\n\\n\")\n",
    "            raise Exception(\"There are still missing odds after filling with other bookmakers. Please check the data.\")\n",
    "        else:\n",
    "            print(f\"All missing odds filled successfully.\", end=\"\\n\\n\")\n",
    "    else:\n",
    "        print(f\"No missing odds found.\", end=\"\\n\\n\")\n",
    "    return df\n",
    "\n",
    "\n",
    "\n",
    "datasets = [fill_missing_odds(d) for d in datasets]\n"
   ]
  },
  {
   "cell_type": "code",
   "execution_count": null,
   "id": "febe1004",
   "metadata": {},
   "outputs": [],
   "source": [
    "def extract_leaderboard(df):\n",
    "    \"\"\"\n",
    "    Extract the leaderboard from the dataframe.\n",
    "\n",
    "    Note: Takes into account only the Full Time Result (FTR) column. \n",
    "    Real leaderboards are more complex and take into account other factors like goal difference, goals scored, etc.\n",
    "    This is a simplified version is enough.\n",
    "    \"\"\"\n",
    "    teams = set(df[\"HomeTeam\"].unique()).union(set(df[\"AwayTeam\"].unique()))\n",
    "    leaderboard = pd.DataFrame(teams, columns=[\"Team\"])\n",
    "    leaderboard[\"Points\"] = 0\n",
    "    for _ , row in df.iterrows():\n",
    "        if row[\"FTR\"] == \"H\":\n",
    "            leaderboard.loc[leaderboard[\"Team\"] == row[\"HomeTeam\"], \"Points\"] += 3\n",
    "        elif row[\"FTR\"] == \"A\":\n",
    "            leaderboard.loc[leaderboard[\"Team\"] == row[\"AwayTeam\"], \"Points\"] += 3\n",
    "        elif row[\"FTR\"] == \"D\":\n",
    "            leaderboard.loc[leaderboard[\"Team\"] == row[\"HomeTeam\"], \"Points\"] += 1\n",
    "            leaderboard.loc[leaderboard[\"Team\"] == row[\"AwayTeam\"], \"Points\"] += 1\n",
    "    leaderboard = leaderboard.sort_values(by=\"Points\", ascending=False)\n",
    "    leaderboard.reset_index(drop=True, inplace=True)\n",
    "    leaderboard.index += 1\n",
    "    leaderboard.index.name = \"Position\"\n",
    "    leaderboard.index = leaderboard.index.astype(int)\n",
    "    return leaderboard\n",
    "    \n"
   ]
  },
  {
   "cell_type": "code",
   "execution_count": 5,
   "id": "1125e34e",
   "metadata": {},
   "outputs": [],
   "source": [
    "datasets = [d[columns_of_interest] for d in datasets]\n",
    "datasets = [d.rename(columns={\"B365H\": \"HomeOdds\", \"B365D\": \"DrawOdds\", \"B365A\": \"AwayOdds\"}) for d in datasets]\n",
    "\n",
    "for df in datasets:\n",
    "    filename = df.iloc[0][\"Date\"].split(\"/\")[-1]\n",
    "    filename = \"20\" + filename if len(filename) == 2 else filename\n",
    "    filename = f\"{filename}-{int(filename[-2:])+1:02}\"\n",
    "    df.to_csv( OUTPUT / f\"season_{filename}.csv\", index=False)\n",
    "    leaderboard = extract_leaderboard(df)\n",
    "    leaderboard.to_csv( OUTPUT / f\"leaderboard_{filename}.csv\", index=False)\n"
   ]
  }
 ],
 "metadata": {
  "kernelspec": {
   "display_name": "venv",
   "language": "python",
   "name": "python3"
  },
  "language_info": {
   "codemirror_mode": {
    "name": "ipython",
    "version": 3
   },
   "file_extension": ".py",
   "mimetype": "text/x-python",
   "name": "python",
   "nbconvert_exporter": "python",
   "pygments_lexer": "ipython3",
   "version": "3.13.2"
  }
 },
 "nbformat": 4,
 "nbformat_minor": 5
}
