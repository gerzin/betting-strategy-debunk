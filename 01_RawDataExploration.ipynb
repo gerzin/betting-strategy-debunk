{
 "cells": [
  {
   "cell_type": "markdown",
   "id": "47b1d819",
   "metadata": {},
   "source": [
    "# Raw data exploration\n",
    "\n",
    "Let's explore the [raw data](./data/raw/)"
   ]
  },
  {
   "cell_type": "code",
   "execution_count": 1,
   "id": "1bfd338d-408b-4ae7-bf5d-b350537852c8",
   "metadata": {},
   "outputs": [
    {
     "name": "stdout",
     "output_type": "stream",
     "text": [
      "Not all datasets have the same columns\n"
     ]
    }
   ],
   "source": [
    "import pandas as pd\n",
    "from pathlib import Path\n",
    "\n",
    "DATA=Path(\"data/raw\")\n",
    "\n",
    "datasets = [pd.read_csv(f) for f in filter(lambda x: x.suffix == \".csv\", DATA.iterdir())]\n",
    "raw_columns = [set(f.columns) for f in datasets]\n",
    "\n",
    "try:\n",
    "    assert all(raw_columns[0] == c for c in raw_columns)\n",
    "except AssertionError as e:\n",
    "    print(\"Not all datasets have the same columns\")\n"
   ]
  },
  {
   "cell_type": "markdown",
   "id": "698f950c",
   "metadata": {},
   "source": [
    "Check that the needed columns are in all the datasets"
   ]
  },
  {
   "cell_type": "code",
   "execution_count": 2,
   "id": "72d1fbc1",
   "metadata": {},
   "outputs": [],
   "source": [
    "columns = [\n",
    "    \"Date\",\n",
    "    \"HomeTeam\",\n",
    "    \"AwayTeam\",\n",
    "    \"FTR\", # Full Time Result\n",
    "    \"B365H\" , # Bet365 home win odds\n",
    "    \"B365D\" , # Bet365 draw odds\n",
    "    \"B365A\" , # Bet365 away win odds\n",
    "]\n",
    "\n",
    "assert all([set(columns).issubset(x) for x in raw_columns])\n"
   ]
  },
  {
   "cell_type": "code",
   "execution_count": 3,
   "id": "57c94c19",
   "metadata": {},
   "outputs": [
    {
     "data": {
      "text/html": [
       "<div>\n",
       "<style scoped>\n",
       "    .dataframe tbody tr th:only-of-type {\n",
       "        vertical-align: middle;\n",
       "    }\n",
       "\n",
       "    .dataframe tbody tr th {\n",
       "        vertical-align: top;\n",
       "    }\n",
       "\n",
       "    .dataframe thead th {\n",
       "        text-align: right;\n",
       "    }\n",
       "</style>\n",
       "<table border=\"1\" class=\"dataframe\">\n",
       "  <thead>\n",
       "    <tr style=\"text-align: right;\">\n",
       "      <th></th>\n",
       "      <th>Date</th>\n",
       "      <th>HomeTeam</th>\n",
       "      <th>AwayTeam</th>\n",
       "      <th>FTR</th>\n",
       "      <th>B365H</th>\n",
       "      <th>B365D</th>\n",
       "      <th>B365A</th>\n",
       "    </tr>\n",
       "  </thead>\n",
       "  <tbody>\n",
       "    <tr>\n",
       "      <th>0</th>\n",
       "      <td>19/09/2020</td>\n",
       "      <td>Fiorentina</td>\n",
       "      <td>Torino</td>\n",
       "      <td>H</td>\n",
       "      <td>1.83</td>\n",
       "      <td>3.75</td>\n",
       "      <td>4.20</td>\n",
       "    </tr>\n",
       "    <tr>\n",
       "      <th>1</th>\n",
       "      <td>19/09/2020</td>\n",
       "      <td>Verona</td>\n",
       "      <td>Roma</td>\n",
       "      <td>D</td>\n",
       "      <td>3.75</td>\n",
       "      <td>3.50</td>\n",
       "      <td>1.95</td>\n",
       "    </tr>\n",
       "    <tr>\n",
       "      <th>2</th>\n",
       "      <td>20/09/2020</td>\n",
       "      <td>Parma</td>\n",
       "      <td>Napoli</td>\n",
       "      <td>A</td>\n",
       "      <td>5.25</td>\n",
       "      <td>4.20</td>\n",
       "      <td>1.61</td>\n",
       "    </tr>\n",
       "    <tr>\n",
       "      <th>3</th>\n",
       "      <td>20/09/2020</td>\n",
       "      <td>Genoa</td>\n",
       "      <td>Crotone</td>\n",
       "      <td>H</td>\n",
       "      <td>1.90</td>\n",
       "      <td>3.60</td>\n",
       "      <td>4.00</td>\n",
       "    </tr>\n",
       "    <tr>\n",
       "      <th>4</th>\n",
       "      <td>20/09/2020</td>\n",
       "      <td>Sassuolo</td>\n",
       "      <td>Cagliari</td>\n",
       "      <td>D</td>\n",
       "      <td>1.95</td>\n",
       "      <td>3.75</td>\n",
       "      <td>3.75</td>\n",
       "    </tr>\n",
       "  </tbody>\n",
       "</table>\n",
       "</div>"
      ],
      "text/plain": [
       "         Date    HomeTeam  AwayTeam FTR  B365H  B365D  B365A\n",
       "0  19/09/2020  Fiorentina    Torino   H   1.83   3.75   4.20\n",
       "1  19/09/2020      Verona      Roma   D   3.75   3.50   1.95\n",
       "2  20/09/2020       Parma    Napoli   A   5.25   4.20   1.61\n",
       "3  20/09/2020       Genoa   Crotone   H   1.90   3.60   4.00\n",
       "4  20/09/2020    Sassuolo  Cagliari   D   1.95   3.75   3.75"
      ]
     },
     "execution_count": 3,
     "metadata": {},
     "output_type": "execute_result"
    }
   ],
   "source": [
    "datasets = [f[columns] for f in datasets]\n",
    "datasets[0].head()\n"
   ]
  },
  {
   "cell_type": "markdown",
   "id": "1509d849",
   "metadata": {},
   "source": [
    "The dataset is already clean. In [CleanDatasetCreation.ipynb](./CleanDatasetCreation.ipynb) we'll create the datasets needed for the monte carlo simulation by extracting only the wanted columns and the leaderboards."
   ]
  },
  {
   "cell_type": "markdown",
   "id": "cb900d55",
   "metadata": {},
   "source": []
  }
 ],
 "metadata": {
  "kernelspec": {
   "display_name": "venv",
   "language": "python",
   "name": "python3"
  },
  "language_info": {
   "codemirror_mode": {
    "name": "ipython",
    "version": 3
   },
   "file_extension": ".py",
   "mimetype": "text/x-python",
   "name": "python",
   "nbconvert_exporter": "python",
   "pygments_lexer": "ipython3",
   "version": "3.13.2"
  }
 },
 "nbformat": 4,
 "nbformat_minor": 5
}
